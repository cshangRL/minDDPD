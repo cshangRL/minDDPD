{
 "cells": [
  {
   "cell_type": "code",
   "execution_count": 43,
   "metadata": {},
   "outputs": [
    {
     "name": "stderr",
     "output_type": "stream",
     "text": [
      "/home/ubuntu/simo/ddpd/sample_ddpd.py:13: FutureWarning: You are using `torch.load` with `weights_only=False` (the current default value), which uses the default pickle module implicitly. It is possible to construct malicious pickle data which will execute arbitrary code during unpickling (See https://github.com/pytorch/pytorch/blob/main/SECURITY.md#untrusted-models for more details). In a future release, the default value for `weights_only` will be flipped to `True`. This limits the functions that could be executed during unpickling. Arbitrary objects will no longer be allowed to be loaded via this mode unless they are explicitly allowlisted by the user via `torch.serialization.add_safe_globals`. We recommend you start setting `weights_only=True` for any use case where you don't have full control of the loaded file. Please open an issue on GitHub for any issues related to this experimental feature.\n",
      "  checkpoint = torch.load(checkpoint_path, map_location=device)\n"
     ]
    },
    {
     "name": "stdout",
     "output_type": "stream",
     "text": [
      "Rotary half of head dim: 64\n",
      "Rotary half of head dim: 64\n"
     ]
    }
   ],
   "source": [
    "import torch\n",
    "import torch.nn.functional as F\n",
    "from train_ddpd import DDPDConfig\n",
    "from sample_ddpd import load_models, decode_tokens\n",
    "import matplotlib.pyplot as plt\n",
    "import numpy as np\n",
    "from PIL import Image\n",
    "\n",
    "checkpoint = \"/home/ubuntu/simo/ddpd/checkpoints/checkpoint_iter_2800.pt\"\n",
    "device = \"cuda\"\n",
    "planner, denoiser = load_models(checkpoint, device)\n",
    "\n",
    "\n"
   ]
  },
  {
   "cell_type": "code",
   "execution_count": 2,
   "metadata": {},
   "outputs": [
    {
     "name": "stdout",
     "output_type": "stream",
     "text": [
      "Initializing MNISTTokenDataset\n",
      "Total samples: 60000\n"
     ]
    }
   ],
   "source": [
    "from train_ddpd import MNISTTokenDataset\n",
    "\n",
    "dataset = MNISTTokenDataset()"
   ]
  },
  {
   "cell_type": "code",
   "execution_count": 3,
   "metadata": {},
   "outputs": [
    {
     "data": {
      "image/png": "[encoded data removed]",
      "text/plain": [
       "<Figure size 640x480 with 1 Axes>"
      ]
     },
     "metadata": {},
     "output_type": "display_data"
    }
   ],
   "source": [
    "image, label = dataset[0]\n",
    "\n",
    "# visualize image\n",
    "plt.imshow(image.reshape(32, 32), cmap='gray')\n",
    "plt.title(f\"Label: {label}\")\n",
    "plt.axis('off')\n",
    "plt.show()"
   ]
  },
  {
   "cell_type": "code",
   "execution_count": 44,
   "metadata": {},
   "outputs": [
    {
     "name": "stdout",
     "output_type": "stream",
     "text": [
      "Time estimated: 1.0\n",
      "Time estimated: 1.0\n",
      "Time estimated: 1.0\n",
      "Time estimated: 0.9999999403953552\n",
      "Time estimated: 0.9999986886978149\n",
      "Time estimated: 0.9999902248382568\n",
      "Time estimated: 0.999948263168335\n",
      "Time estimated: 0.9998177886009216\n",
      "Time estimated: 0.9993286728858948\n",
      "Time estimated: 0.9966922998428345\n",
      "Time estimated: 0.9904999136924744\n",
      "Time estimated: 0.9849319458007812\n",
      "Time estimated: 0.9657723903656006\n",
      "Time estimated: 0.9343313574790955\n",
      "Time estimated: 0.8908877372741699\n",
      "Time estimated: 0.8557959794998169\n",
      "Time estimated: 0.8317698836326599\n",
      "Time estimated: 0.8119969367980957\n",
      "Time estimated: 0.7947820425033569\n",
      "Time estimated: 0.779273271560669\n",
      "Time estimated: 0.7739664912223816\n",
      "Time estimated: 0.7635278701782227\n",
      "Time estimated: 0.7546565532684326\n",
      "Time estimated: 0.7470752000808716\n",
      "Time estimated: 0.7377703189849854\n",
      "Time estimated: 0.7281231880187988\n",
      "Time estimated: 0.7164265513420105\n",
      "Time estimated: 0.7040533423423767\n",
      "Time estimated: 0.6906260251998901\n",
      "Time estimated: 0.6767867803573608\n",
      "Time estimated: 0.6614535450935364\n",
      "Time estimated: 0.6501097679138184\n",
      "Time estimated: 0.6375610828399658\n",
      "Time estimated: 0.6287775635719299\n",
      "Time estimated: 0.6160639524459839\n",
      "Time estimated: 0.6015062928199768\n",
      "Time estimated: 0.5922961235046387\n",
      "Time estimated: 0.5797528028488159\n",
      "Time estimated: 0.569888174533844\n",
      "Time estimated: 0.5577378273010254\n",
      "Time estimated: 0.5471965074539185\n",
      "Time estimated: 0.534440279006958\n",
      "Time estimated: 0.5213649272918701\n",
      "Time estimated: 0.5106382369995117\n",
      "Time estimated: 0.4994071125984192\n",
      "Time estimated: 0.4889148473739624\n",
      "Time estimated: 0.47602760791778564\n",
      "Time estimated: 0.4617930054664612\n",
      "Time estimated: 0.4508707821369171\n",
      "Time estimated: 0.4401341676712036\n",
      "Time estimated: 0.42853379249572754\n",
      "Time estimated: 0.41971850395202637\n",
      "Time estimated: 0.4087475538253784\n",
      "Time estimated: 0.4002845883369446\n",
      "Time estimated: 0.38887134194374084\n",
      "Time estimated: 0.3782349228858948\n",
      "Time estimated: 0.3671433627605438\n",
      "Time estimated: 0.3575514554977417\n",
      "Time estimated: 0.34827274084091187\n",
      "Time estimated: 0.33953288197517395\n",
      "Time estimated: 0.3302832245826721\n",
      "Time estimated: 0.3210580348968506\n",
      "Time estimated: 0.3118666410446167\n",
      "Time estimated: 0.30270713567733765\n",
      "Time estimated: 0.29327958822250366\n",
      "Time estimated: 0.2818145751953125\n",
      "Time estimated: 0.26972898840904236\n",
      "Time estimated: 0.2610592842102051\n",
      "Time estimated: 0.2521638870239258\n",
      "Time estimated: 0.24267980456352234\n",
      "Time estimated: 0.23223768174648285\n",
      "Time estimated: 0.22117386758327484\n",
      "Time estimated: 0.2132425159215927\n",
      "Time estimated: 0.2028035968542099\n",
      "Time estimated: 0.19339971244335175\n",
      "Time estimated: 0.18195952475070953\n",
      "Time estimated: 0.17134211957454681\n",
      "Time estimated: 0.1608254611492157\n",
      "Time estimated: 0.15070657432079315\n",
      "Time estimated: 0.14064502716064453\n",
      "Time estimated: 0.13116197288036346\n",
      "Time estimated: 0.12068561464548111\n",
      "Time estimated: 0.11131705343723297\n",
      "Time estimated: 0.10136262327432632\n",
      "Time estimated: 0.09089607745409012\n",
      "Time estimated: 0.08042910695075989\n",
      "Time estimated: 0.07031163573265076\n",
      "Time estimated: 0.06042429059743881\n",
      "Time estimated: 0.05078307166695595\n",
      "Time estimated: 0.04101099818944931\n",
      "Time estimated: 0.031031016260385513\n",
      "Time estimated: 0.02122095227241516\n",
      "Time estimated: 0.010752790607511997\n",
      "Time estimated: 0.0009765625\n"
     ]
    }
   ],
   "source": [
    "\n",
    "torch.set_grad_enabled(False)\n",
    "\n",
    "num_steps = 300\n",
    "num_samples = 10\n",
    "label = 6\n",
    "time_steps = torch.linspace(1.0, 0.00, num_steps, device=device)\n",
    "\n",
    "images = []\n",
    "mask_images = []\n",
    "\n",
    "x = torch.randint(0, planner.config.vocab_size - 1, (1, 32 * 32), device=device)\n",
    "class_labels = torch.tensor([label], device=device)\n",
    "\n",
    "for idx, t in enumerate(time_steps):\n",
    "    current_t = torch.full((1,), t, device=device)\n",
    "    \n",
    "    # Get planner predictions\n",
    "    planner_logits = planner(x, current_t, class_labels)\n",
    "    planner_probs = torch.sigmoid(planner_logits / 0.1)\n",
    "    \n",
    "    time_estimated = planner_probs.mean().item()\n",
    "    print(f\"Time estimated: {time_estimated}\")\n",
    "    \n",
    "    \n",
    "    current_t = torch.full((1,), time_estimated, device=device)\n",
    "    \n",
    "    # Create mask based on planner predictions\n",
    "    if idx == len(time_steps) - 1:\n",
    "        mask = planner_probs > 0.5\n",
    "    else:\n",
    "        change_dim = torch.multinomial(planner_probs, num_samples=num_samples)\n",
    "        mask = torch.zeros_like(planner_probs.squeeze(-1), dtype=torch.bool)\n",
    "        mask.scatter_(1, change_dim, True)\n",
    "    \n",
    "    mask_images.append(planner_probs.cpu().numpy().reshape(32, 32) * 255)\n",
    "    \n",
    "    if mask.sum() > 0:\n",
    "        denoiser_logits = denoiser(x, current_t, class_labels)\n",
    "        \n",
    "        masked_logits = denoiser_logits[mask]\n",
    "        if idx == len(time_steps) - 1:\n",
    "            masked_logits = masked_logits / 0.01\n",
    "        else:\n",
    "            masked_logits = masked_logits / 1.0\n",
    "        probs = F.softmax(masked_logits, dim=-1)\n",
    "        next_tokens = torch.multinomial(probs, num_samples=1).squeeze(-1)\n",
    "        x[mask] = next_tokens\n",
    "    \n",
    "    # Plot current state (denormalize back to 0-255)\n",
    "    current_image = x.reshape(32, 32).float()\n",
    "    current_image = (current_image / 7.0 * 255).clamp(0, 255).cpu().numpy()\n",
    "    images.append(current_image)\n",
    "    \n",
    "    if time_estimated < 0.01:\n",
    "        break\n",
    "    "
   ]
  },
  {
   "cell_type": "code",
   "execution_count": 45,
   "metadata": {},
   "outputs": [],
   "source": [
    "# visualize images as gif, concat mask_images and images left to right\n",
    "mask_images = np.array(mask_images)\n",
    "images = np.array(images)\n",
    "\n",
    "# concat horizontally\n",
    "all_images = np.concatenate([mask_images, images], axis=2)\n",
    "\n",
    "# put \"planner\" and \"state\" on top of all_images\n",
    "new_images = []\n",
    "from PIL import Image, ImageDraw\n",
    "\n",
    "new_resolution = 256\n",
    "\n",
    "for i in range(all_images.shape[0]):\n",
    "    # Create a blank canvas with white background\n",
    "    canvas_width = new_resolution * 2\n",
    "    canvas_height = new_resolution + 32\n",
    "    blank_image = Image.new('RGB', (canvas_width, canvas_height), 'white')\n",
    "    \n",
    "    # Resize and paste the current image\n",
    "    img = Image.fromarray(all_images[i]).resize((canvas_width, new_resolution), Image.Resampling.NEAREST)\n",
    "    blank_image.paste(img, (0, 32))\n",
    "    \n",
    "    # Add text labels\n",
    "    draw = ImageDraw.Draw(blank_image)\n",
    "    draw.text((10, 10), \"planner\", fill=\"red\", font=None)\n",
    "    draw.text((new_resolution + 5, 10), \"state\", fill=\"blue\", font=None)\n",
    "    \n",
    "    new_images.append(blank_image)\n",
    "\n",
    "# visualize all_images as gif\n",
    "import imageio\n",
    "imageio.mimsave('all_images.mp4', new_images, fps=10)\n"
   ]
  },
  {
   "cell_type": "code",
   "execution_count": 19,
   "metadata": {},
   "outputs": [
    {
     "name": "stdout",
     "output_type": "stream",
     "text": [
      "torch.Size([1, 1024])\n"
     ]
    }
   ],
   "source": [
    "indices = image.reshape(1, -1)\n",
    "indices = indices.to(device)\n",
    "print(indices.shape)\n",
    "t = torch.tensor([0.9], device=device)\n",
    "mask = torch.bernoulli(t.unsqueeze(1).expand(-1, indices.shape[1])).bool()\n",
    "\n",
    "input_indices = indices.clone()\n",
    "MASK_IDX = planner.config.vocab_size - 1\n",
    "num_masked = mask.sum().item()\n",
    "if num_masked > 0:\n",
    "    input_indices[mask] = torch.randint(\n",
    "        0, MASK_IDX, (num_masked,), device=device\n",
    "    )\n"
   ]
  },
  {
   "cell_type": "code",
   "execution_count": 20,
   "metadata": {},
   "outputs": [
    {
     "data": {
      "image/png": "[encoded data removed]",
      "text/plain": [
       "<Figure size 640x480 with 1 Axes>"
      ]
     },
     "metadata": {},
     "output_type": "display_data"
    }
   ],
   "source": [
    "# visualize input_indices\n",
    "plt.imshow(input_indices.cpu().numpy().reshape(32, 32), cmap='gray')\n",
    "plt.title(f\"Label: {label}\")\n",
    "plt.axis('off')\n",
    "plt.show()"
   ]
  },
  {
   "cell_type": "code",
   "execution_count": null,
   "metadata": {},
   "outputs": [],
   "source": []
  }
 ],
 "metadata": {
  "kernelspec": {
   "display_name": "Python 3",
   "language": "python",
   "name": "python3"
  },
  "language_info": {
   "codemirror_mode": {
    "name": "ipython",
    "version": 3
   },
   "file_extension": ".py",
   "mimetype": "text/x-python",
   "name": "python",
   "nbconvert_exporter": "python",
   "pygments_lexer": "ipython3",
   "version": "3.11.11"
  }
 },
 "nbformat": 4,
 "nbformat_minor": 2
}
