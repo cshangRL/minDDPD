{
 "cells": [
  {
   "cell_type": "code",
   "execution_count": 8,
   "metadata": {},
   "outputs": [],
   "source": [
    "\n",
    "import torch\n",
    "\n",
    "B, T = 4, 3\n",
    "device = \"cuda\"\n",
    "vocab_size = 100\n",
    "indices = torch.randint(0, 99, (B, T)).to(device)\n",
    "labels = torch.randint(0, 3, (B,)).to(device)\n",
    "\n",
    "t = torch.rand(indices.shape[0], device=device)\n",
    "\n",
    "# Create binary mask based on timestep t\n",
    "mask = torch.bernoulli(t.unsqueeze(1).expand(-1, indices.shape[1])).bool()\n"
   ]
  },
  {
   "cell_type": "code",
   "execution_count": 9,
   "metadata": {},
   "outputs": [
    {
     "data": {
      "text/plain": [
       "tensor([[False, False, False],\n",
       "        [False,  True, False],\n",
       "        [False,  True,  True],\n",
       "        [ True,  True,  True]], device='cuda:0')"
      ]
     },
     "execution_count": 9,
     "metadata": {},
     "output_type": "execute_result"
    }
   ],
   "source": [
    "mask"
   ]
  },
  {
   "cell_type": "code",
   "execution_count": 10,
   "metadata": {},
   "outputs": [],
   "source": [
    "\n",
    "# Create corrupted version by cloning original indices\n",
    "corrupted = indices.clone()\n",
    "corrupted_as_null = indices.clone()\n",
    "corrupted_as_null[mask] = vocab_size - 1\n"
   ]
  },
  {
   "cell_type": "code",
   "execution_count": 11,
   "metadata": {},
   "outputs": [
    {
     "data": {
      "text/plain": [
       "(tensor([[29, 68,  9],\n",
       "         [58, 90, 73],\n",
       "         [93, 33, 89],\n",
       "         [89, 50, 29]], device='cuda:0'),\n",
       " tensor([[29, 68,  9],\n",
       "         [58, 99, 73],\n",
       "         [93, 99, 99],\n",
       "         [99, 99, 99]], device='cuda:0'))"
      ]
     },
     "execution_count": 11,
     "metadata": {},
     "output_type": "execute_result"
    }
   ],
   "source": [
    "indices, corrupted_as_null"
   ]
  },
  {
   "cell_type": "code",
   "execution_count": 12,
   "metadata": {},
   "outputs": [
    {
     "data": {
      "text/plain": [
       "tensor([[29, 68,  9],\n",
       "        [58, 41, 73],\n",
       "        [93, 51, 98],\n",
       "        [ 5, 35, 44]], device='cuda:0')"
      ]
     },
     "execution_count": 12,
     "metadata": {},
     "output_type": "execute_result"
    }
   ],
   "source": [
    "\n",
    "# Only corrupt tokens where mask is True\n",
    "# Sample random tokens from vocab range for corrupted positions\n",
    "num_masked = mask.sum().item()\n",
    "if num_masked > 0:\n",
    "    corrupted[mask] = torch.randint(\n",
    "        0, vocab_size - 1, (num_masked,), device=device\n",
    "    )\n",
    "    \n",
    "corrupted"
   ]
  },
  {
   "cell_type": "code",
   "execution_count": null,
   "metadata": {},
   "outputs": [],
   "source": []
  }
 ],
 "metadata": {
  "kernelspec": {
   "display_name": "Python 3",
   "language": "python",
   "name": "python3"
  },
  "language_info": {
   "codemirror_mode": {
    "name": "ipython",
    "version": 3
   },
   "file_extension": ".py",
   "mimetype": "text/x-python",
   "name": "python",
   "nbconvert_exporter": "python",
   "pygments_lexer": "ipython3",
   "version": "3.11.11"
  }
 },
 "nbformat": 4,
 "nbformat_minor": 2
}
